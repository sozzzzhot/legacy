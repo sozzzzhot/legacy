{
  "cells": [
    {
      "cell_type": "code",
      "execution_count": null,
      "metadata": {
        "id": "SaAJk33ppFw1",
        "cellView": "form"
      },
      "outputs": [],
      "source": [
        "#@markdown All in one\n",
        "%cd /content\n",
        "%env TF_CPP_MIN_LOG_LEVEL=1\n",
        "\n",
        "!apt -y update -qq\n",
        "!wget http://launchpadlibrarian.net/367274644/libgoogle-perftools-dev_2.5-2.2ubuntu3_amd64.deb\n",
        "!wget https://launchpad.net/ubuntu/+source/google-perftools/2.5-2.2ubuntu3/+build/14795286/+files/google-perftools_2.5-2.2ubuntu3_all.deb\n",
        "!wget https://launchpad.net/ubuntu/+source/google-perftools/2.5-2.2ubuntu3/+build/14795286/+files/libtcmalloc-minimal4_2.5-2.2ubuntu3_amd64.deb\n",
        "!wget https://launchpad.net/ubuntu/+source/google-perftools/2.5-2.2ubuntu3/+build/14795286/+files/libgoogle-perftools4_2.5-2.2ubuntu3_amd64.deb\n",
        "!apt install -qq libunwind8-dev\n",
        "!dpkg -i *.deb\n",
        "# %env LD_PRELOAD=libtcmalloc.so\n",
        "!rm *.deb\n",
        "\n",
        "!apt -y install -qq aria2 libcairo2-dev pkg-config python3-dev\n",
        "!pip install -q xformers==0.0.20 triton==2.0.0 -U\n",
        "!pip install torch==2.0.0+cu118 torchvision==0.15.1+cu118 torchaudio==2.0.1 --index-url https://download.pytorch.org/whl/cu118\n",
        "!git clone https://github.com/sozzzzhot/legacy\n",
        "!mv /content/legacy /content/UIUI\n",
        "%cd /content/UIUI\n",
        "\n",
        "import base64\n",
        "p1 = base64.b64decode((\"L2NvbnRlbnQvVUlVSS9tcy9mdXNpb24=\").encode('ascii')).decode('ascii')\n",
        "p2 = base64.b64decode((\"L2NvbnRlbnQvVUlVSS9tcy9Mb3Jh\").encode('ascii')).decode('ascii')\n",
        "p3 = base64.b64decode((\"L2NvbnRlbnQvVUlVSS9leHRlbnNpb25z\").encode('ascii')).decode('ascii')\n",
        "Link = \"\" #@param {type:\"string\"}\n",
        "lo1 = \"\" #@param {type:\"string\"}\n",
        "\n",
        "!wget $Link -P $p1 --content-disposition\n",
        "!git clone https://github.com/sozzzzhot/aspect-ratio-helper $p3/as\n",
        "# remove system variable\n",
        "del p1\n",
        "del p2\n",
        "del Link\n",
        "del lo1\n",
        "ngrok_token  = '' #@param {type:\"string\"}\n",
        "%cd /content/UIUI\n",
        "get_ipython().system_raw('python3  launch.py --xformers &')\n",
        "!ps -ef\n",
        "import os\n",
        "if not os.path.exists('ngrok-v3-stable-linux-amd64.tgz'):\n",
        "  !wget https://bin.equinox.io/c/bNyj1mQVY4c/ngrok-v3-stable-linux-amd64.tgz\n",
        "  !tar -xvzf ngrok-v3-stable-linux-amd64.tgz\n",
        "\n",
        "!./ngrok config add-authtoken $ngrok_token\n",
        "!./ngrok http 7860"
      ]
    },
    {
      "cell_type": "code",
      "source": [
        "ngrok_token  = '' #@param {type:\"string\"}\n",
        "\n",
        "get_ipython().system_raw('python3  launch.py --xformers &')\n",
        "!ps -ef\n",
        "import os\n",
        "if not os.path.exists('ngrok-v3-stable-linux-amd64.tgz'):\n",
        "  !wget https://bin.equinox.io/c/bNyj1mQVY4c/ngrok-v3-stable-linux-amd64.tgz\n",
        "  !tar -xvzf ngrok-v3-stable-linux-amd64.tgz\n",
        "\n",
        "!./ngrok config add-authtoken$ngrok_token\n",
        "!./ngrok http 7860"
      ],
      "metadata": {
        "id": "9a47Y2xVbEaQ",
        "cellView": "form"
      },
      "execution_count": null,
      "outputs": []
    }
  ],
  "metadata": {
    "accelerator": "GPU",
    "colab": {
      "private_outputs": true,
      "provenance": []
    },
    "gpuClass": "standard",
    "kernelspec": {
      "display_name": "Python 3",
      "name": "python3"
    },
    "language_info": {
      "name": "python"
    }
  },
  "nbformat": 4,
  "nbformat_minor": 0
}
